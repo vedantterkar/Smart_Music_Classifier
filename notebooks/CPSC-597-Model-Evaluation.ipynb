{
 "cells": [
  {
   "cell_type": "markdown",
   "metadata": {},
   "source": [
    "## Evaluate the selected model on various metrics"
   ]
  },
  {
   "cell_type": "code",
   "execution_count": 1,
   "metadata": {},
   "outputs": [],
   "source": [
    "import numpy as np\n",
    "import pandas as pd\n",
    "import matplotlib.pyplot as plt\n",
    "import pickle"
   ]
  },
  {
   "cell_type": "markdown",
   "metadata": {},
   "source": [
    "### Load Data, Encoder and Labels Back"
   ]
  },
  {
   "cell_type": "code",
   "execution_count": 2,
   "metadata": {},
   "outputs": [
    {
     "data": {
      "text/html": [
       "<div>\n",
       "<style scoped>\n",
       "    .dataframe tbody tr th:only-of-type {\n",
       "        vertical-align: middle;\n",
       "    }\n",
       "\n",
       "    .dataframe tbody tr th {\n",
       "        vertical-align: top;\n",
       "    }\n",
       "\n",
       "    .dataframe thead th {\n",
       "        text-align: right;\n",
       "    }\n",
       "</style>\n",
       "<table border=\"1\" class=\"dataframe\">\n",
       "  <thead>\n",
       "    <tr style=\"text-align: right;\">\n",
       "      <th></th>\n",
       "      <th>zcr</th>\n",
       "      <th>spec_cnt</th>\n",
       "      <th>spec_bw</th>\n",
       "      <th>roll_off</th>\n",
       "      <th>mfcc_9</th>\n",
       "      <th>mfcc_8</th>\n",
       "      <th>mfcc_7</th>\n",
       "      <th>mfcc_6</th>\n",
       "      <th>mfcc_5</th>\n",
       "      <th>mfcc_4</th>\n",
       "      <th>...</th>\n",
       "      <th>mfcc_16</th>\n",
       "      <th>mfcc_15</th>\n",
       "      <th>mfcc_14</th>\n",
       "      <th>mfcc_13</th>\n",
       "      <th>mfcc_12</th>\n",
       "      <th>mfcc_11</th>\n",
       "      <th>mfcc_10</th>\n",
       "      <th>mfcc_1</th>\n",
       "      <th>mfcc_0</th>\n",
       "      <th>chroma</th>\n",
       "    </tr>\n",
       "  </thead>\n",
       "  <tbody>\n",
       "    <tr>\n",
       "      <th>33</th>\n",
       "      <td>0.135866</td>\n",
       "      <td>3262.545498</td>\n",
       "      <td>3046.902288</td>\n",
       "      <td>6828.042045</td>\n",
       "      <td>-1.174001</td>\n",
       "      <td>1.463652</td>\n",
       "      <td>-6.670136</td>\n",
       "      <td>6.109441</td>\n",
       "      <td>-3.211731</td>\n",
       "      <td>15.129221</td>\n",
       "      <td>...</td>\n",
       "      <td>-3.894060</td>\n",
       "      <td>-3.492096</td>\n",
       "      <td>-2.300871</td>\n",
       "      <td>-0.701747</td>\n",
       "      <td>1.880871</td>\n",
       "      <td>-0.740703</td>\n",
       "      <td>-1.208800</td>\n",
       "      <td>59.745834</td>\n",
       "      <td>-112.386246</td>\n",
       "      <td>0.409124</td>\n",
       "    </tr>\n",
       "    <tr>\n",
       "      <th>981</th>\n",
       "      <td>0.051222</td>\n",
       "      <td>1451.626880</td>\n",
       "      <td>1920.103350</td>\n",
       "      <td>3046.548245</td>\n",
       "      <td>13.887205</td>\n",
       "      <td>-8.349648</td>\n",
       "      <td>12.752349</td>\n",
       "      <td>-11.798956</td>\n",
       "      <td>16.661285</td>\n",
       "      <td>-6.748015</td>\n",
       "      <td>...</td>\n",
       "      <td>9.418379</td>\n",
       "      <td>13.468802</td>\n",
       "      <td>0.713353</td>\n",
       "      <td>1.415985</td>\n",
       "      <td>-4.319632</td>\n",
       "      <td>2.323283</td>\n",
       "      <td>-4.239411</td>\n",
       "      <td>112.055489</td>\n",
       "      <td>-298.806488</td>\n",
       "      <td>0.201482</td>\n",
       "    </tr>\n",
       "    <tr>\n",
       "      <th>443</th>\n",
       "      <td>0.120290</td>\n",
       "      <td>2354.275407</td>\n",
       "      <td>2335.864738</td>\n",
       "      <td>5048.444473</td>\n",
       "      <td>21.509733</td>\n",
       "      <td>-12.836778</td>\n",
       "      <td>24.268114</td>\n",
       "      <td>-7.024291</td>\n",
       "      <td>30.959877</td>\n",
       "      <td>13.205050</td>\n",
       "      <td>...</td>\n",
       "      <td>-7.753410</td>\n",
       "      <td>9.134334</td>\n",
       "      <td>-3.332591</td>\n",
       "      <td>12.768875</td>\n",
       "      <td>-7.443831</td>\n",
       "      <td>12.772383</td>\n",
       "      <td>-13.528785</td>\n",
       "      <td>78.708740</td>\n",
       "      <td>-161.789078</td>\n",
       "      <td>0.428440</td>\n",
       "    </tr>\n",
       "    <tr>\n",
       "      <th>440</th>\n",
       "      <td>0.061317</td>\n",
       "      <td>1699.720192</td>\n",
       "      <td>2030.541315</td>\n",
       "      <td>3787.185433</td>\n",
       "      <td>11.156204</td>\n",
       "      <td>-2.366651</td>\n",
       "      <td>17.051825</td>\n",
       "      <td>0.714876</td>\n",
       "      <td>24.681801</td>\n",
       "      <td>-5.101215</td>\n",
       "      <td>...</td>\n",
       "      <td>-4.845382</td>\n",
       "      <td>0.027759</td>\n",
       "      <td>-5.482364</td>\n",
       "      <td>3.515103</td>\n",
       "      <td>-5.682409</td>\n",
       "      <td>6.133347</td>\n",
       "      <td>-3.081421</td>\n",
       "      <td>114.223923</td>\n",
       "      <td>-223.351395</td>\n",
       "      <td>0.458460</td>\n",
       "    </tr>\n",
       "    <tr>\n",
       "      <th>114</th>\n",
       "      <td>0.126103</td>\n",
       "      <td>2384.674283</td>\n",
       "      <td>2073.141137</td>\n",
       "      <td>4584.797276</td>\n",
       "      <td>13.375665</td>\n",
       "      <td>-14.652543</td>\n",
       "      <td>23.669445</td>\n",
       "      <td>-8.135880</td>\n",
       "      <td>22.682861</td>\n",
       "      <td>-3.822758</td>\n",
       "      <td>...</td>\n",
       "      <td>-10.719015</td>\n",
       "      <td>1.033077</td>\n",
       "      <td>-11.862719</td>\n",
       "      <td>3.591869</td>\n",
       "      <td>-9.322087</td>\n",
       "      <td>13.716960</td>\n",
       "      <td>-9.416918</td>\n",
       "      <td>91.298286</td>\n",
       "      <td>-120.115761</td>\n",
       "      <td>0.465478</td>\n",
       "    </tr>\n",
       "  </tbody>\n",
       "</table>\n",
       "<p>5 rows × 25 columns</p>\n",
       "</div>"
      ],
      "text/plain": [
       "          zcr     spec_cnt      spec_bw     roll_off     mfcc_9     mfcc_8  \\\n",
       "33   0.135866  3262.545498  3046.902288  6828.042045  -1.174001   1.463652   \n",
       "981  0.051222  1451.626880  1920.103350  3046.548245  13.887205  -8.349648   \n",
       "443  0.120290  2354.275407  2335.864738  5048.444473  21.509733 -12.836778   \n",
       "440  0.061317  1699.720192  2030.541315  3787.185433  11.156204  -2.366651   \n",
       "114  0.126103  2384.674283  2073.141137  4584.797276  13.375665 -14.652543   \n",
       "\n",
       "        mfcc_7     mfcc_6     mfcc_5     mfcc_4    ...       mfcc_16  \\\n",
       "33   -6.670136   6.109441  -3.211731  15.129221    ...     -3.894060   \n",
       "981  12.752349 -11.798956  16.661285  -6.748015    ...      9.418379   \n",
       "443  24.268114  -7.024291  30.959877  13.205050    ...     -7.753410   \n",
       "440  17.051825   0.714876  24.681801  -5.101215    ...     -4.845382   \n",
       "114  23.669445  -8.135880  22.682861  -3.822758    ...    -10.719015   \n",
       "\n",
       "       mfcc_15    mfcc_14    mfcc_13   mfcc_12    mfcc_11    mfcc_10  \\\n",
       "33   -3.492096  -2.300871  -0.701747  1.880871  -0.740703  -1.208800   \n",
       "981  13.468802   0.713353   1.415985 -4.319632   2.323283  -4.239411   \n",
       "443   9.134334  -3.332591  12.768875 -7.443831  12.772383 -13.528785   \n",
       "440   0.027759  -5.482364   3.515103 -5.682409   6.133347  -3.081421   \n",
       "114   1.033077 -11.862719   3.591869 -9.322087  13.716960  -9.416918   \n",
       "\n",
       "         mfcc_1      mfcc_0    chroma  \n",
       "33    59.745834 -112.386246  0.409124  \n",
       "981  112.055489 -298.806488  0.201482  \n",
       "443   78.708740 -161.789078  0.428440  \n",
       "440  114.223923 -223.351395  0.458460  \n",
       "114   91.298286 -120.115761  0.465478  \n",
       "\n",
       "[5 rows x 25 columns]"
      ]
     },
     "execution_count": 2,
     "metadata": {},
     "output_type": "execute_result"
    }
   ],
   "source": [
    "data = pickle.load(open(\"../Saved_Models/data.obj\", \"rb\"))\n",
    "labels = pickle.load(open(\"../Saved_Models/labels.obj\", \"rb\"))\n",
    "encoder = pickle.load(open(\"../Saved_Models/encoder.obj\", \"rb\"))\n",
    "data.head()"
   ]
  },
  {
   "cell_type": "markdown",
   "metadata": {},
   "source": [
    "### Load Model"
   ]
  },
  {
   "cell_type": "code",
   "execution_count": 3,
   "metadata": {},
   "outputs": [],
   "source": [
    "rf = pickle.load(open(\"../Saved_Models/model.obj\", \"rb\"))"
   ]
  },
  {
   "cell_type": "markdown",
   "metadata": {},
   "source": [
    "### Score"
   ]
  },
  {
   "cell_type": "code",
   "execution_count": 4,
   "metadata": {},
   "outputs": [
    {
     "data": {
      "image/png": "[encoded data removed]",
      "text/plain": [
       "<Figure size 432x288 with 1 Axes>"
      ]
     },
     "metadata": {
      "needs_background": "light"
     },
     "output_type": "display_data"
    }
   ],
   "source": [
    "sc = rf.score(pickle.load(open(\"../Saved_Models/X_test\", \"rb\")),\n",
    "        pickle.load(open(\"../Saved_Models/y_actual\", \"rb\")))\n",
    "plt.bar( [\"RF\"], [sc * 100],  width='0.35')\n",
    "plt.ylabel('Score(%)')\n",
    "plt.title(\"Score of Model on Test Data\")\n",
    "plt.xlabel('Model');"
   ]
  },
  {
   "cell_type": "markdown",
   "metadata": {},
   "source": [
    "### K-Fold Cross Validation"
   ]
  },
  {
   "cell_type": "code",
   "execution_count": 5,
   "metadata": {},
   "outputs": [],
   "source": [
    "from sklearn.model_selection import cross_val_score\n",
    "n = 10\n",
    "res = cross_val_score(rf, data, labels, cv=n)\n",
    "res = [x*100 for x in res]\n",
    "folds = [ \"Fold-\"+str(x+1) for x in range(len(res))]\n"
   ]
  },
  {
   "cell_type": "code",
   "execution_count": 6,
   "metadata": {},
   "outputs": [
    {
     "data": {
      "image/png": "[encoded data removed]",
      "text/plain": [
       "<Figure size 720x720 with 1 Axes>"
      ]
     },
     "metadata": {
      "needs_background": "light"
     },
     "output_type": "display_data"
    }
   ],
   "source": [
    "fig, ax = plt.subplots(figsize=(10,10))\n",
    "ax.set(title=str(n)+\"-Fold Validation\",\n",
    "      xlabel=\"Fold\",\n",
    "      ylabel=\"Accuracy in (%)\")\n",
    "ax.bar(folds, res);"
   ]
  },
  {
   "cell_type": "markdown",
   "metadata": {},
   "source": [
    "### Confusion Matrix"
   ]
  },
  {
   "cell_type": "code",
   "execution_count": 7,
   "metadata": {},
   "outputs": [
    {
     "data": {
      "image/png": "[encoded data removed]",
      "text/plain": [
       "<Figure size 720x720 with 2 Axes>"
      ]
     },
     "metadata": {
      "needs_background": "light"
     },
     "output_type": "display_data"
    }
   ],
   "source": [
    "from sklearn.metrics import confusion_matrix\n",
    "import seaborn as sns\n",
    "\n",
    "conf_mat = confusion_matrix(pickle.load(open(\"../Saved_Models/y_pred\", \"rb\")), \n",
    "                            pickle.load(open(\"../Saved_Models/y_actual\", \"rb\")))\n",
    "fig, ax = plt.subplots(figsize=(10,10))\n",
    "sns.heatmap(conf_mat, annot=True, fmt='d',\n",
    "            xticklabels=[x for x in range(10)], yticklabels=[x for x in range(10)])\n",
    "plt.ylabel('Actual')\n",
    "plt.xlabel('Predicted')\n",
    "plt.show()"
   ]
  },
  {
   "cell_type": "code",
   "execution_count": null,
   "metadata": {},
   "outputs": [],
   "source": []
  }
 ],
 "metadata": {
  "kernelspec": {
   "display_name": "Python 3",
   "language": "python",
   "name": "python3"
  },
  "language_info": {
   "codemirror_mode": {
    "name": "ipython",
    "version": 3
   },
   "file_extension": ".py",
   "mimetype": "text/x-python",
   "name": "python",
   "nbconvert_exporter": "python",
   "pygments_lexer": "ipython3",
   "version": "3.5.6"
  }
 },
 "nbformat": 4,
 "nbformat_minor": 4
}
